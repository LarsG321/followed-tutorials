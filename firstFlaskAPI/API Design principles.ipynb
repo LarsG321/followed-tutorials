{
 "cells": [
  {
   "cell_type": "markdown",
   "metadata": {},
   "source": [
    "# API Design Principles\n",
    "\n",
    "In the **api.py** file I followed a simple tutorial to create a flask api. \n",
    "In addition, the tutorial also introduces some API Design principles, which I will summarize here.\n",
    "In general APIs can be used as a backbone of a wide variaty of applications. It is often useful to first create an API and then build visualizations\n",
    "\n",
    "## Design Requests\n",
    "\n",
    "**REST** is a design pattern for building APIs.\n",
    "* Based on four methods of HTTP: POST, GET, PUT, DELETE (correspond to CREATE,READ, UPDATE, DELETE in a database)\n",
    "* Often: Design principles revolve around the format of requests\n",
    "  * the four REST methods should not occur in the request method, since one is already using HTTP GET method for example\n",
    "  * Resource collections should be denoted by plural nouns (books instead of book)\n",
    "  * Use named parameters --> \"/?id=10\" instead of \"/10\"\n",
    "  * plan future additions: Instead of using books as an endboint, consider ressources/books, so one can maybe add CDs later\n",
    "  * Add version numbers to path \n",
    "\n",
    "## Documentation\n",
    "* Document the API AND add examples (same for general python code)\n",
    "* User Docstrings and convert them into documentation (e.g. with Doxygen or Sphinx)\n",
    "* Optimal documentation: reference for the details of each route, guide for all references in prose, one or two tutorials for each step"
   ]
  }
 ],
 "metadata": {
  "language_info": {
   "name": "python"
  },
  "orig_nbformat": 4
 },
 "nbformat": 4,
 "nbformat_minor": 2
}
